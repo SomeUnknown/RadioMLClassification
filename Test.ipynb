{
 "cells": [
  {
   "cell_type": "markdown",
   "id": "498f874e-88f0-4762-8907-95fa9d3e8fe1",
   "metadata": {},
   "source": [
    "import h5py\n",
    "import numpy as np\n",
    "import os,random\n",
    "from tensorflow.keras.layers import Input,Reshape,ZeroPadding2D,MaxPool2D,Conv1D,Conv2D,Dropout,Flatten,Dense,Activation,MaxPooling2D,AlphaDropout,BatchNormalization, MaxPooling1D, MultiHeadAttention, LayerNormalization, Dropout, GlobalAveragePooling1D\n",
    "from tensorflow.keras import layers\n",
    "from keras import regularizers\n",
    "from keras.layers import Convolution1D ,Convolution2D, MaxPooling2D\n",
    "import keras.models as Model\n",
    "from tensorflow.keras.regularizers import *\n",
    "from tensorflow.keras.optimizers import Adam\n",
    "import seaborn as sns\n",
    "import tensorflow as tf\n",
    "import matplotlib.pyplot as plt\n",
    "from keras.models import load_model, Sequential\n",
    "import gc"
   ]
  },
  {
   "cell_type": "code",
   "execution_count": 5,
   "id": "a3d392c5-3ec2-472b-963e-f8c7b0b0fc2b",
   "metadata": {},
   "outputs": [
    {
     "data": {
      "image/png": "[encoded data removed]",
      "text/plain": [
       "<Figure size 640x480 with 1 Axes>"
      ]
     },
     "metadata": {},
     "output_type": "display_data"
    }
   ],
   "source": [
    "x = [1, 5, 10, 15, 20]\n",
    "y = [1, 0.3, 0.5, 0.7, 0.8]\n",
    "plt.plot(x,y, label='transformer')\n",
    "plt.legend()\n",
    "plt.ylabel('ACC')\n",
    "plt.xlabel('SNR')\n",
    "plt.ylim(0, 1)\n",
    "plt.grid(True)\n",
    "plt.show()"
   ]
  },
  {
   "cell_type": "code",
   "execution_count": 2,
   "id": "8ca19736-d140-4d9f-9ab0-fd17c4a3ed85",
   "metadata": {},
   "outputs": [
    {
     "name": "stdout",
     "output_type": "stream",
     "text": [
      "ExtractDataset/part1.h5\n",
      "ExtractDataset/part2.h5\n",
      "ExtractDataset/part3.h5\n",
      "ExtractDataset/part4.h5\n",
      "ExtractDataset/part5.h5\n",
      "ExtractDataset/part6.h5\n",
      "ExtractDataset/part7.h5\n",
      "ExtractDataset/part8.h5\n",
      "ExtractDataset/part9.h5\n",
      "ExtractDataset/part10.h5\n",
      "ExtractDataset/part11.h5\n",
      "ExtractDataset/part12.h5\n",
      "ExtractDataset/part13.h5\n",
      "ExtractDataset/part14.h5\n",
      "ExtractDataset/part15.h5\n",
      "ExtractDataset/part16.h5\n",
      "ExtractDataset/part17.h5\n",
      "ExtractDataset/part18.h5\n",
      "ExtractDataset/part19.h5\n",
      "ExtractDataset/part20.h5\n",
      "ExtractDataset/part21.h5\n",
      "ExtractDataset/part22.h5\n",
      "ExtractDataset/part23.h5\n",
      "X-size： (748800, 1024, 2)\n",
      "Y-size： (748800, 24)\n",
      "Z-size： (748800, 1)\n"
     ]
    }
   ],
   "source": [
    "f = h5py.File('ExtractDataset/part0.h5')\n",
    "sample_num = f['X'].shape[0]\n",
    "idx = np.random.choice(range(sample_num), size=sample_num)\n",
    "# idx = np.random.choice(range(0,sample_num), size=sample_num//20)\n",
    "X = f['X'][:][idx]\n",
    "Y = f['Y'][:][idx]\n",
    "Z = f['Z'][:][idx]\n",
    "f.close()\n",
    "\n",
    "for i in range(1,24):\n",
    "    filename = 'ExtractDataset/part'+str(i) + '.h5'\n",
    "    print(filename)\n",
    "    f = h5py.File(filename,'r')\n",
    "    X = np.vstack((X,f['X'][:][idx]))\n",
    "    Y = np.vstack((Y,f['Y'][:][idx]))\n",
    "    Z = np.vstack((Z,f['Z'][:][idx]))\n",
    "    gc.collect()\n",
    "    f.close()\n",
    "\n",
    "\n",
    "print('X-size：',X.shape)\n",
    "print('Y-size：',Y.shape)\n",
    "print('Z-size：',Z.shape)"
   ]
  },
  {
   "cell_type": "code",
   "execution_count": 3,
   "id": "78da0d86-ecf0-4f1b-8e6e-4f1239c6f32d",
   "metadata": {},
   "outputs": [
    {
     "name": "stdout",
     "output_type": "stream",
     "text": [
      "X_train: (673920, 1024, 2)\n",
      "Y_train: (673920, 24)\n",
      "X_test: (74880, 1024, 2)\n",
      "Y_test: (74880, 24)\n"
     ]
    }
   ],
   "source": [
    "n_examples = X.shape[0]\n",
    "# n_train = int(n_examples * 0.9877)\n",
    "n_train = int(n_examples * 0.9)\n",
    "train_idx = np.random.choice(range(0,n_examples), size=n_train, replace=False)  #Randomly select training sample subscript\n",
    "test_idx = list(set(range(0,n_examples))-set(train_idx)) #Test sample index\n",
    "X_train = X[train_idx]  #training samples\n",
    "X_test =  X[test_idx]  #testing samples\n",
    "Y_train = Y[train_idx]\n",
    "Y_test = Y[test_idx]\n",
    "Z_train = Z[train_idx]\n",
    "Z_test = Z[test_idx]\n",
    "print(\"X_train:\",X_train.shape)\n",
    "print(\"Y_train:\",Y_train.shape)\n",
    "print(\"X_test:\",X_test.shape)\n",
    "print(\"Y_test:\",Y_test.shape)"
   ]
  },
  {
   "cell_type": "code",
   "execution_count": 4,
   "id": "c138b8e5-5979-4c50-a997-7be045c6cd07",
   "metadata": {},
   "outputs": [],
   "source": [
    "classes = ['32PSK',\n",
    " '16APSK',\n",
    " '32QAM',\n",
    " 'FM',\n",
    " 'GMSK',\n",
    " '32APSK',\n",
    " 'OQPSK',\n",
    " '8ASK',\n",
    " 'BPSK',\n",
    " '8PSK',\n",
    " 'AM-SSB-SC',\n",
    " '4ASK',\n",
    " '16PSK',\n",
    " '64APSK',\n",
    " '128QAM',\n",
    " '128APSK',\n",
    " 'AM-DSB-SC',\n",
    " 'AM-SSB-WC',\n",
    " '64QAM',\n",
    " 'QPSK',\n",
    " '256QAM',\n",
    " 'AM-DSB-WC',\n",
    " 'OOK',\n",
    " '16QAM']"
   ]
  },
  {
   "cell_type": "code",
   "execution_count": 5,
   "id": "d1d48250-431d-44b7-b540-bf0baab41118",
   "metadata": {},
   "outputs": [],
   "source": [
    "class TransformerBlock(layers.Layer):\n",
    "    def __init__(self, embed_dim, num_heads, ff_dim, rate=0.2):\n",
    "        super(TransformerBlock, self).__init__()\n",
    "        self.att = MultiHeadAttention(num_heads=num_heads, key_dim=embed_dim)\n",
    "        self.ffn = Sequential(\n",
    "            [Dense(ff_dim, activation=\"relu\"), Dense(embed_dim),]\n",
    "        )\n",
    "        self.layernorm1 = LayerNormalization(epsilon=1e-6)\n",
    "        self.layernorm2 = LayerNormalization(epsilon=1e-6)\n",
    "        self.dropout1 = Dropout(rate)\n",
    "        self.dropout2 = Dropout(rate)\n",
    "    def get_config(self):\n",
    "        cfg = super().get_config()\n",
    "        return cfg    \n",
    "    def call(self, inputs, training):\n",
    "        attn_output = self.att(inputs, inputs//128)\n",
    "        attn_output = self.dropout1(attn_output)\n",
    "        out1 = self.layernorm1(inputs + attn_output)\n",
    "        ffn_output = self.ffn(out1)\n",
    "        ffn_output = self.dropout2(ffn_output)\n",
    "        return self.layernorm2(out1 + ffn_output)"
   ]
  },
  {
   "cell_type": "code",
   "execution_count": 6,
   "id": "6b2bf543-26f4-419b-bfee-7effd29e216b",
   "metadata": {},
   "outputs": [
    {
     "name": "stdout",
     "output_type": "stream",
     "text": [
      "Model: \"model\"\n",
      "_________________________________________________________________\n",
      " Layer (type)                Output Shape              Param #   \n",
      "=================================================================\n",
      " input_1 (InputLayer)        [(None, 1024, 2)]         0         \n",
      "                                                                 \n",
      " reshape (Reshape)           (None, 2, 1024)           0         \n",
      "                                                                 \n",
      " transformer_block (Transfor  (None, 2, 1024)          537794816 \n",
      " merBlock)                                                       \n",
      "                                                                 \n",
      " global_average_pooling1d (G  (None, 1024)             0         \n",
      " lobalAveragePooling1D)                                          \n",
      "                                                                 \n",
      " dropout_2 (Dropout)         (None, 1024)              0         \n",
      "                                                                 \n",
      " dense_2 (Dense)             (None, 1024)              1049600   \n",
      "                                                                 \n",
      " dropout_3 (Dropout)         (None, 1024)              0         \n",
      "                                                                 \n",
      " dense_3 (Dense)             (None, 24)                24600     \n",
      "                                                                 \n",
      "=================================================================\n",
      "Total params: 538,869,016\n",
      "Trainable params: 538,869,016\n",
      "Non-trainable params: 0\n",
      "_________________________________________________________________\n"
     ]
    }
   ],
   "source": [
    "def proposed_model(X_train,classes):\n",
    "\n",
    "    embed_dim = 1024  # Embedding size for each token\n",
    "    num_heads = 128  # Number of attention heads\n",
    "    ff_dim = 256  # Hidden layer size in feed forward network inside transformer\n",
    "\n",
    "    in_shp = X_train.shape[1:]   #Dimensions of each sample\n",
    "\n",
    "    #input layer\n",
    "    X_input = Input(in_shp)\n",
    "    X = Reshape([2,1024], input_shape=in_shp)(X_input)\n",
    "\n",
    "    transformer_block = TransformerBlock(embed_dim, num_heads, ff_dim)\n",
    "    x = transformer_block(X)\n",
    "    x = GlobalAveragePooling1D()(x)\n",
    "    x = Dropout(0.2)(x)\n",
    "    x = Dense(1024, activation=\"selu\")(x)\n",
    "    x = Dropout(0.2)(x)\n",
    "    x = Dense(len(classes), activation=\"softmax\")(x)\n",
    "    return tf.keras.models.Model(inputs=X_input, outputs=x)\n",
    "    \n",
    "model = proposed_model(X_train, classes) \n",
    "\n",
    "optimizer = Adam(learning_rate=0.001)\n",
    "model.compile(loss='categorical_crossentropy', optimizer=optimizer, metrics=['accuracy'])\n",
    "model.summary()"
   ]
  },
  {
   "cell_type": "code",
   "execution_count": null,
   "id": "67defda0-d284-4383-bafe-66e25bd21aeb",
   "metadata": {},
   "outputs": [],
   "source": [
    "gc.collect()\n",
    "filepath = 'test_model.keras'\n",
    "history = model.fit(X_train,\n",
    "    Y_train,\n",
    "    batch_size=1024,\n",
    "    epochs=3,\n",
    "    verbose=1,\n",
    "    # validation_data=(X_test, Y_test),\n",
    "    validation_split = 0.2,\n",
    "    callbacks = [\n",
    "        tf.keras.callbacks.ModelCheckpoint(filepath, monitor='val_loss', verbose=1, save_best_only=True, mode='auto'),\n",
    "        tf.keras.callbacks.EarlyStopping(monitor='val_loss', patience=10, verbose=1, mode='auto')\n",
    "    ])"
   ]
  },
  {
   "cell_type": "code",
   "execution_count": null,
   "id": "e1207511-96fd-4871-af6c-56e74e50e5a0",
   "metadata": {},
   "outputs": [],
   "source": [
    "fig, ((ax1, ax2)) = plt.subplots(nrows=1, ncols=2,figsize=(20,6))\n",
    "\n",
    "ax1.plot(history.history['accuracy'],'b', history.history['val_accuracy'], 'r')\n",
    "ax1.set_ylabel('Accuracy Rate',fontsize=12)\n",
    "ax1.set_xlabel('Iteration',fontsize=12)\n",
    "ax1.set_title('Categorical Cross Entropy ',fontsize=14)\n",
    "ax1.legend(['Training Accuracy','Validation Accuracy'],fontsize=12,loc='best')\n",
    "\n",
    "ax2.plot(history.history['loss'], 'b',history.history['val_loss'],'r')\n",
    "ax2.set_ylabel('Loss',fontsize=12)\n",
    "ax2.set_xlabel('Iteration',fontsize=12)\n",
    "ax2.set_title('Learning Curve ',fontsize=14)\n",
    "ax2.legend(['Training Loss','Validation Loss'],fontsize=12,loc='best')\n",
    "\n",
    "# plt.savefig('crosse_results.png')\n",
    "plt.show()"
   ]
  },
  {
   "cell_type": "code",
   "execution_count": null,
   "id": "778d44cc-43c7-40b0-b098-f7d82a4a81f6",
   "metadata": {},
   "outputs": [],
   "source": [
    "def plot_confusion_matrix(cm, title='Confusion matrix', cmap=plt.cm.Blues, labels=[]):\n",
    "    plt.figure(figsize=(10, 10))\n",
    "    plt.imshow(cm, interpolation='nearest', cmap=cmap)\n",
    "    plt.title(title)\n",
    "    plt.colorbar()\n",
    "    tick_marks = np.arange(len(labels))\n",
    "    plt.xticks(tick_marks, labels, rotation=45)\n",
    "    plt.yticks(tick_marks, labels)\n",
    "    plt.tight_layout()\n",
    "    plt.ylabel('True label')\n",
    "    plt.xlabel('Predicted label')\n",
    "# Plot confusion matrix\n",
    "batch_size = 1024\n",
    "test_Y_hat = model.predict(X_test, batch_size)\n",
    "conf = np.zeros([len(classes),len(classes)])\n",
    "confnorm = np.zeros([len(classes),len(classes)])\n",
    "for i in range(0,X_test.shape[0]):\n",
    "    j = list(Y_test[i,:]).index(1)\n",
    "    k = int(np.argmax(test_Y_hat[i,:]))\n",
    "    conf[j,k] = conf[j,k] + 1\n",
    "for i in range(0,len(classes)):\n",
    "    confnorm[i,:] = conf[i,:] / np.sum(conf[i,:])\n",
    "plot_confusion_matrix(confnorm, labels=classes)"
   ]
  },
  {
   "cell_type": "code",
   "execution_count": null,
   "id": "77d014d1-26a2-411e-8790-93fa34e94686",
   "metadata": {
    "scrolled": true
   },
   "outputs": [],
   "source": [
    "acc={}\n",
    "Z_test = Z_test.reshape((len(Z_test)))\n",
    "SNRs = np.unique(Z_test)\n",
    "for snr in SNRs:\n",
    "    X_test_snr = X_test[Z_test==snr]\n",
    "    Y_test_snr = Y_test[Z_test==snr]\n",
    "    \n",
    "    pre_Y_test = model.predict(X_test_snr)\n",
    "    conf = np.zeros([len(classes),len(classes)])\n",
    "    confnorm = np.zeros([len(classes),len(classes)])\n",
    "    for i in range(0,X_test_snr.shape[0]):    \n",
    "        j = list(Y_test_snr[i,:]).index(1)  \n",
    "        k = int(np.argmax(pre_Y_test[i,:])) \n",
    "        conf[j,k] = conf[j,k] + 1\n",
    "    for i in range(0,len(classes)):\n",
    "        confnorm[i,:] = conf[i,:] / np.sum(conf[i,:])\n",
    "   \n",
    "    plt.figure()\n",
    "    plot_confusion_matrix(confnorm, labels=classes, title=\"ConvNet Confusion Matrix (SNR=%d)\"%(snr))\n",
    "    \n",
    "    cor = np.sum(np.diag(conf))\n",
    "    ncor = np.sum(conf) - cor\n",
    "    print (\"Overall Accuracy %s: \"%snr, cor / (cor+ncor))\n",
    "    acc[snr] = 1.0*cor/(cor+ncor)"
   ]
  },
  {
   "cell_type": "code",
   "execution_count": null,
   "id": "47abf170-4e14-4db8-ab6c-e8af38c94685",
   "metadata": {},
   "outputs": [],
   "source": [
    "plt.plot(acc.keys(),acc.values())\n",
    "plt.ylabel('ACC')\n",
    "plt.xlabel('SNR')\n",
    "plt.ylim(0, 1)\n",
    "plt.grid(True)\n",
    "plt.show()"
   ]
  },
  {
   "cell_type": "code",
   "execution_count": null,
   "id": "c1386e64-1bd0-4fbd-a02e-b783314d84b1",
   "metadata": {},
   "outputs": [],
   "source": []
  }
 ],
 "metadata": {
  "kernelspec": {
   "display_name": "Python 3 (ipykernel)",
   "language": "python",
   "name": "python3"
  },
  "language_info": {
   "codemirror_mode": {
    "name": "ipython",
    "version": 3
   },
   "file_extension": ".py",
   "mimetype": "text/x-python",
   "name": "python",
   "nbconvert_exporter": "python",
   "pygments_lexer": "ipython3",
   "version": "3.9.19"
  }
 },
 "nbformat": 4,
 "nbformat_minor": 5
}
